{
 "cells": [
  {
   "cell_type": "code",
   "execution_count": 13,
   "metadata": {},
   "outputs": [],
   "source": [
    "import pandas as pd\n",
    "from collections import Counter\n",
    "import matplotlib.pyplot as plt "
   ]
  },
  {
   "cell_type": "code",
   "execution_count": 14,
   "metadata": {},
   "outputs": [],
   "source": [
    "df = pd.read_csv(\"dataset1.csv\")"
   ]
  },
  {
   "cell_type": "code",
   "execution_count": 15,
   "metadata": {},
   "outputs": [],
   "source": [
    "df = df.loc[df['Protocol'] == \"DNS\"]"
   ]
  },
  {
   "cell_type": "code",
   "execution_count": 16,
   "metadata": {},
   "outputs": [],
   "source": [
    "data=[]\n",
    "tot = 0\n",
    "for x in df[\"Info\"]:\n",
    "    tot+=1\n",
    "    if \"CNAME\" in x:\n",
    "        data.append(x.split(\"CNAME\")[1].split(\" \")[1])\n",
    "    elif \"AAAA\" in x:\n",
    "        data.append(x.split(\"AAAA\")[1].split(\" \")[1])\n",
    "    elif \"A\" in x:\n",
    "        data.append(x.split(\"A\")[1].split(\" \")[1]) \n",
    "    elif \"TXT\" in x:\n",
    "        data.append(x.split(\"TXT\")[1].split(\" \")[1]) \n",
    "    elif \"MX\" in x:\n",
    "        data.append(x.split(\"MX\")[1].split(\" \")[1])"
   ]
  },
  {
   "cell_type": "code",
   "execution_count": 17,
   "metadata": {},
   "outputs": [],
   "source": [
    "c = Counter( data )\n",
    "common=[]\n",
    "for val in c.most_common():\n",
    "    if val[1] >=15:\n",
    "        common.append(val[0])\n",
    "lis= []\n",
    "cache_miss=[]\n",
    "parts=[]\n",
    "for x in data:\n",
    "    x=x.strip()\n",
    "\n",
    "    if x not in lis:\n",
    "        cache_miss.append(1)\n",
    "        lis.append(x)\n",
    "    else:\n",
    "        cache_miss.append(0)"
   ]
  },
  {
   "cell_type": "code",
   "execution_count": 18,
   "metadata": {},
   "outputs": [
    {
     "data": {
      "image/png": "[encoded data removed]",
      "text/plain": [
       "<Figure size 432x288 with 1 Axes>"
      ]
     },
     "metadata": {
      "needs_background": "light"
     },
     "output_type": "display_data"
    }
   ],
   "source": [
    "x = cache_miss\n",
    "y=[]\n",
    "for i in range(len(x)):\n",
    "    y.append(i)\n",
    "\n",
    "plt.plot(y,x) \n",
    "plt.show()"
   ]
  },
  {
   "cell_type": "code",
   "execution_count": 19,
   "metadata": {},
   "outputs": [
    {
     "name": "stdout",
     "output_type": "stream",
     "text": [
      "607 444 424\n",
      "163 183 89.07103825136612\n"
     ]
    }
   ],
   "source": [
    "parts=[]\n",
    "total=0\n",
    "attack=0\n",
    "actual=0\n",
    "attack_data=[]\n",
    "for i in range(len(data)):\n",
    "    x=data[i]\n",
    "    if cache_miss[i]==1:\n",
    "        total+=1\n",
    "        if \"dnscat\" in x:\n",
    "            actual+=1\n",
    "        count=0\n",
    "        l1=0\n",
    "        l2=0\n",
    "        for p in x.split(\".\"):\n",
    "            if p not in parts:\n",
    "                count+=1\n",
    "                l1=l1+len(p)\n",
    "            l2=l2+len(p)\n",
    "        sim = count/len(x.split(\".\"))\n",
    "        sim2=l1/l2\n",
    "        if sim <= 0.75 and sim2 >= 0.8 and x not in common:\n",
    "            attack+=1\n",
    "            attack_data.append(1)\n",
    "        else:\n",
    "            attack_data.append(0)\n",
    "    else:\n",
    "        attack_data.append(0)\n",
    "                    \n",
    "    for p in x.split(\".\"):\n",
    "        parts.append(p)\n",
    "\n",
    "print(total,attack,actual)\n",
    "print(total-attack, total-actual, (total-attack)*100/(total-actual))"
   ]
  },
  {
   "cell_type": "markdown",
   "metadata": {},
   "source": [
    " "
   ]
  },
  {
   "cell_type": "code",
   "execution_count": 20,
   "metadata": {},
   "outputs": [
    {
     "data": {
      "image/png": "[encoded data removed]",
      "text/plain": [
       "<Figure size 432x288 with 1 Axes>"
      ]
     },
     "metadata": {
      "needs_background": "light"
     },
     "output_type": "display_data"
    }
   ],
   "source": [
    "x = attack_data\n",
    "y=[]\n",
    "for i in range(len(x)):\n",
    "    y.append(i)\n",
    "\n",
    "plt.plot(y,x) \n",
    "plt.show()"
   ]
  },
  {
   "cell_type": "code",
   "execution_count": null,
   "metadata": {},
   "outputs": [],
   "source": []
  }
 ],
 "metadata": {
  "kernelspec": {
   "display_name": "Python 3",
   "language": "python",
   "name": "python3"
  },
  "language_info": {
   "codemirror_mode": {
    "name": "ipython",
    "version": 3
   },
   "file_extension": ".py",
   "mimetype": "text/x-python",
   "name": "python",
   "nbconvert_exporter": "python",
   "pygments_lexer": "ipython3",
   "version": "3.8.5"
  }
 },
 "nbformat": 4,
 "nbformat_minor": 4
}
