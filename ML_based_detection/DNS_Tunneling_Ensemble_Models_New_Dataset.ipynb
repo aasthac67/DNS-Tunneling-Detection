{
 "cells": [
  {
   "cell_type": "markdown",
   "metadata": {},
   "source": [
    "# DNS Tunneling Detection\n",
    "\n",
    "Dataset Credits : https://github.com/netrack/learn"
   ]
  },
  {
   "cell_type": "code",
   "execution_count": 1,
   "metadata": {},
   "outputs": [],
   "source": [
    "import time\n",
    "import math\n",
    "import pandas as pd\n",
    "import numpy as np\n",
    "from collections import Counter\n",
    "import matplotlib.pyplot as plt\n",
    "from sklearn.model_selection import train_test_split \n",
    "from sklearn.naive_bayes import GaussianNB\n",
    "from sklearn.ensemble import RandomForestClassifier\n",
    "from sklearn.tree import DecisionTreeClassifier\n",
    "from sklearn.neural_network import MLPClassifier\n",
    "from sklearn.naive_bayes import MultinomialNB\n",
    "from sklearn.naive_bayes import BernoulliNB\n",
    "from sklearn.svm import SVC, NuSVC, LinearSVC\n",
    "from sklearn.metrics import accuracy_score, confusion_matrix\n",
    "from sklearn.neighbors import KNeighborsClassifier\n",
    "from sklearn.metrics import classification_report\n",
    "from sklearn.metrics import f1_score\n",
    "from sklearn.utils import shuffle\n",
    "import warnings\n",
    "import pickle\n",
    "warnings.filterwarnings('ignore')"
   ]
  },
  {
   "cell_type": "code",
   "execution_count": 2,
   "metadata": {},
   "outputs": [
    {
     "data": {
      "text/html": [
       "<div>\n",
       "<style scoped>\n",
       "    .dataframe tbody tr th:only-of-type {\n",
       "        vertical-align: middle;\n",
       "    }\n",
       "\n",
       "    .dataframe tbody tr th {\n",
       "        vertical-align: top;\n",
       "    }\n",
       "\n",
       "    .dataframe thead th {\n",
       "        text-align: right;\n",
       "    }\n",
       "</style>\n",
       "<table border=\"1\" class=\"dataframe\">\n",
       "  <thead>\n",
       "    <tr style=\"text-align: right;\">\n",
       "      <th></th>\n",
       "      <th>Label</th>\n",
       "      <th>Query</th>\n",
       "    </tr>\n",
       "  </thead>\n",
       "  <tbody>\n",
       "    <tr>\n",
       "      <th>0</th>\n",
       "      <td>1</td>\n",
       "      <td>q+Z8AnwaBA.hidemyself.org.</td>\n",
       "    </tr>\n",
       "    <tr>\n",
       "      <th>1</th>\n",
       "      <td>1</td>\n",
       "      <td>q+Z8A3wbBA.hidemyself.org.</td>\n",
       "    </tr>\n",
       "    <tr>\n",
       "      <th>2</th>\n",
       "      <td>1</td>\n",
       "      <td>q+Z8BHwcBA.hidemyself.org.</td>\n",
       "    </tr>\n",
       "    <tr>\n",
       "      <th>3</th>\n",
       "      <td>1</td>\n",
       "      <td>q+Z8BXwdBA.hidemyself.org.</td>\n",
       "    </tr>\n",
       "    <tr>\n",
       "      <th>4</th>\n",
       "      <td>1</td>\n",
       "      <td>q+Z8BnweCORdAGL4+W7DB5xH1cUwcwM1gejAQoJF8hbs2J...</td>\n",
       "    </tr>\n",
       "  </tbody>\n",
       "</table>\n",
       "</div>"
      ],
      "text/plain": [
       "   Label                                              Query\n",
       "0      1                         q+Z8AnwaBA.hidemyself.org.\n",
       "1      1                         q+Z8A3wbBA.hidemyself.org.\n",
       "2      1                         q+Z8BHwcBA.hidemyself.org.\n",
       "3      1                         q+Z8BXwdBA.hidemyself.org.\n",
       "4      1  q+Z8BnweCORdAGL4+W7DB5xH1cUwcwM1gejAQoJF8hbs2J..."
      ]
     },
     "execution_count": 2,
     "metadata": {},
     "output_type": "execute_result"
    }
   ],
   "source": [
    "train_data = pd.read_csv(\"train.csv\")\n",
    "train_data.head()"
   ]
  },
  {
   "cell_type": "code",
   "execution_count": 3,
   "metadata": {},
   "outputs": [
    {
     "data": {
      "text/html": [
       "<div>\n",
       "<style scoped>\n",
       "    .dataframe tbody tr th:only-of-type {\n",
       "        vertical-align: middle;\n",
       "    }\n",
       "\n",
       "    .dataframe tbody tr th {\n",
       "        vertical-align: top;\n",
       "    }\n",
       "\n",
       "    .dataframe thead th {\n",
       "        text-align: right;\n",
       "    }\n",
       "</style>\n",
       "<table border=\"1\" class=\"dataframe\">\n",
       "  <thead>\n",
       "    <tr style=\"text-align: right;\">\n",
       "      <th></th>\n",
       "      <th>Label</th>\n",
       "      <th>Query</th>\n",
       "    </tr>\n",
       "  </thead>\n",
       "  <tbody>\n",
       "    <tr>\n",
       "      <th>0</th>\n",
       "      <td>1</td>\n",
       "      <td>0a4aaL5kV6eOeQS0A2SOSZvUa5uRRa5Xd2wXQg45.gQOqC...</td>\n",
       "    </tr>\n",
       "    <tr>\n",
       "      <th>1</th>\n",
       "      <td>1</td>\n",
       "      <td>r51646.tunnel.tuns.org.</td>\n",
       "    </tr>\n",
       "    <tr>\n",
       "      <th>2</th>\n",
       "      <td>1</td>\n",
       "      <td>dIUEABDEZOBAAAQAGRTXQUAAAAMFAAAAC37CAAFUWXXFR6...</td>\n",
       "    </tr>\n",
       "    <tr>\n",
       "      <th>3</th>\n",
       "      <td>1</td>\n",
       "      <td>dIUEABDEVJZAAAQAGSEIQUAAAAMFAAAAC37HAAFQ4GERG7...</td>\n",
       "    </tr>\n",
       "    <tr>\n",
       "      <th>4</th>\n",
       "      <td>0</td>\n",
       "      <td>site.tycrabtree.com</td>\n",
       "    </tr>\n",
       "  </tbody>\n",
       "</table>\n",
       "</div>"
      ],
      "text/plain": [
       "   Label                                              Query\n",
       "0      1  0a4aaL5kV6eOeQS0A2SOSZvUa5uRRa5Xd2wXQg45.gQOqC...\n",
       "1      1                            r51646.tunnel.tuns.org.\n",
       "2      1  dIUEABDEZOBAAAQAGRTXQUAAAAMFAAAAC37CAAFUWXXFR6...\n",
       "3      1  dIUEABDEVJZAAAQAGSEIQUAAAAMFAAAAC37HAAFQ4GERG7...\n",
       "4      0                                site.tycrabtree.com"
      ]
     },
     "execution_count": 3,
     "metadata": {},
     "output_type": "execute_result"
    }
   ],
   "source": [
    "test_data = pd.read_csv(\"test.csv\")\n",
    "test_data.head()"
   ]
  },
  {
   "cell_type": "code",
   "execution_count": 4,
   "metadata": {},
   "outputs": [
    {
     "name": "stdout",
     "output_type": "stream",
     "text": [
      "1    12000\n",
      "0     3000\n",
      "Name: Label, dtype: int64\n"
     ]
    },
    {
     "data": {
      "image/png": "[encoded data removed]",
      "text/plain": [
       "<Figure size 432x288 with 1 Axes>"
      ]
     },
     "metadata": {
      "needs_background": "light"
     },
     "output_type": "display_data"
    }
   ],
   "source": [
    "counts = train_data['Label'].value_counts()\n",
    "print(counts)\n",
    "counts.plot(kind = 'bar',color = [\"green\",\"red\"])\n",
    "plt.title('Bar Plot')\n",
    "plt.show()"
   ]
  },
  {
   "cell_type": "code",
   "execution_count": 5,
   "metadata": {},
   "outputs": [
    {
     "name": "stdout",
     "output_type": "stream",
     "text": [
      "0    11291\n",
      "1     8709\n",
      "Name: Label, dtype: int64\n"
     ]
    },
    {
     "data": {
      "image/png": "[encoded data removed]",
      "text/plain": [
       "<Figure size 432x288 with 1 Axes>"
      ]
     },
     "metadata": {
      "needs_background": "light"
     },
     "output_type": "display_data"
    }
   ],
   "source": [
    "counts = test_data['Label'].value_counts()\n",
    "print(counts)\n",
    "counts.plot(kind = 'bar',color = [\"green\",\"red\"])\n",
    "plt.title('Bar Plot')\n",
    "plt.show()"
   ]
  },
  {
   "cell_type": "markdown",
   "metadata": {},
   "source": [
    "# Finding Entropy from data"
   ]
  },
  {
   "cell_type": "code",
   "execution_count": 6,
   "metadata": {},
   "outputs": [],
   "source": [
    "def find_entropy(text):\n",
    "    if not text: \n",
    "        return 0 \n",
    "    entropy = 0\n",
    "    for x in range(256): \n",
    "        p_x = float(text.count(chr(x)))/len(text) \n",
    "        if p_x > 0: \n",
    "            entropy += - p_x*math.log(p_x, 2) \n",
    "    return entropy"
   ]
  },
  {
   "cell_type": "code",
   "execution_count": 7,
   "metadata": {},
   "outputs": [
    {
     "data": {
      "text/html": [
       "<div>\n",
       "<style scoped>\n",
       "    .dataframe tbody tr th:only-of-type {\n",
       "        vertical-align: middle;\n",
       "    }\n",
       "\n",
       "    .dataframe tbody tr th {\n",
       "        vertical-align: top;\n",
       "    }\n",
       "\n",
       "    .dataframe thead th {\n",
       "        text-align: right;\n",
       "    }\n",
       "</style>\n",
       "<table border=\"1\" class=\"dataframe\">\n",
       "  <thead>\n",
       "    <tr style=\"text-align: right;\">\n",
       "      <th></th>\n",
       "      <th>Label</th>\n",
       "      <th>Query</th>\n",
       "      <th>Entropy</th>\n",
       "    </tr>\n",
       "  </thead>\n",
       "  <tbody>\n",
       "    <tr>\n",
       "      <th>0</th>\n",
       "      <td>1</td>\n",
       "      <td>q+Z8AnwaBA.hidemyself.org.</td>\n",
       "      <td>4.363713</td>\n",
       "    </tr>\n",
       "    <tr>\n",
       "      <th>1</th>\n",
       "      <td>1</td>\n",
       "      <td>q+Z8A3wbBA.hidemyself.org.</td>\n",
       "      <td>4.363713</td>\n",
       "    </tr>\n",
       "    <tr>\n",
       "      <th>2</th>\n",
       "      <td>1</td>\n",
       "      <td>q+Z8BHwcBA.hidemyself.org.</td>\n",
       "      <td>4.363713</td>\n",
       "    </tr>\n",
       "    <tr>\n",
       "      <th>3</th>\n",
       "      <td>1</td>\n",
       "      <td>q+Z8BXwdBA.hidemyself.org.</td>\n",
       "      <td>4.286790</td>\n",
       "    </tr>\n",
       "    <tr>\n",
       "      <th>4</th>\n",
       "      <td>1</td>\n",
       "      <td>q+Z8BnweCORdAGL4+W7DB5xH1cUwcwM1gejAQoJF8hbs2J...</td>\n",
       "      <td>5.752803</td>\n",
       "    </tr>\n",
       "  </tbody>\n",
       "</table>\n",
       "</div>"
      ],
      "text/plain": [
       "   Label                                              Query   Entropy\n",
       "0      1                         q+Z8AnwaBA.hidemyself.org.  4.363713\n",
       "1      1                         q+Z8A3wbBA.hidemyself.org.  4.363713\n",
       "2      1                         q+Z8BHwcBA.hidemyself.org.  4.363713\n",
       "3      1                         q+Z8BXwdBA.hidemyself.org.  4.286790\n",
       "4      1  q+Z8BnweCORdAGL4+W7DB5xH1cUwcwM1gejAQoJF8hbs2J...  5.752803"
      ]
     },
     "execution_count": 7,
     "metadata": {},
     "output_type": "execute_result"
    }
   ],
   "source": [
    "train_entropy_vals = []\n",
    "\n",
    "for query in train_data['Query']:\n",
    "    entropy = find_entropy(query)\n",
    "    train_entropy_vals.append(entropy)\n",
    "\n",
    "train_data['Entropy'] = train_entropy_vals\n",
    "train_data.head()"
   ]
  },
  {
   "cell_type": "code",
   "execution_count": 8,
   "metadata": {},
   "outputs": [
    {
     "data": {
      "text/html": [
       "<div>\n",
       "<style scoped>\n",
       "    .dataframe tbody tr th:only-of-type {\n",
       "        vertical-align: middle;\n",
       "    }\n",
       "\n",
       "    .dataframe tbody tr th {\n",
       "        vertical-align: top;\n",
       "    }\n",
       "\n",
       "    .dataframe thead th {\n",
       "        text-align: right;\n",
       "    }\n",
       "</style>\n",
       "<table border=\"1\" class=\"dataframe\">\n",
       "  <thead>\n",
       "    <tr style=\"text-align: right;\">\n",
       "      <th></th>\n",
       "      <th>Label</th>\n",
       "      <th>Query</th>\n",
       "      <th>Entropy</th>\n",
       "    </tr>\n",
       "  </thead>\n",
       "  <tbody>\n",
       "    <tr>\n",
       "      <th>0</th>\n",
       "      <td>1</td>\n",
       "      <td>0a4aaL5kV6eOeQS0A2SOSZvUa5uRRa5Xd2wXQg45.gQOqC...</td>\n",
       "      <td>5.537549</td>\n",
       "    </tr>\n",
       "    <tr>\n",
       "      <th>1</th>\n",
       "      <td>1</td>\n",
       "      <td>r51646.tunnel.tuns.org.</td>\n",
       "      <td>3.621176</td>\n",
       "    </tr>\n",
       "    <tr>\n",
       "      <th>2</th>\n",
       "      <td>1</td>\n",
       "      <td>dIUEABDEZOBAAAQAGRTXQUAAAAMFAAAAC37CAAFUWXXFR6...</td>\n",
       "      <td>5.092942</td>\n",
       "    </tr>\n",
       "    <tr>\n",
       "      <th>3</th>\n",
       "      <td>1</td>\n",
       "      <td>dIUEABDEVJZAAAQAGSEIQUAAAAMFAAAAC37HAAFQ4GERG7...</td>\n",
       "      <td>5.024586</td>\n",
       "    </tr>\n",
       "    <tr>\n",
       "      <th>4</th>\n",
       "      <td>0</td>\n",
       "      <td>site.tycrabtree.com</td>\n",
       "      <td>3.431624</td>\n",
       "    </tr>\n",
       "  </tbody>\n",
       "</table>\n",
       "</div>"
      ],
      "text/plain": [
       "   Label                                              Query   Entropy\n",
       "0      1  0a4aaL5kV6eOeQS0A2SOSZvUa5uRRa5Xd2wXQg45.gQOqC...  5.537549\n",
       "1      1                            r51646.tunnel.tuns.org.  3.621176\n",
       "2      1  dIUEABDEZOBAAAQAGRTXQUAAAAMFAAAAC37CAAFUWXXFR6...  5.092942\n",
       "3      1  dIUEABDEVJZAAAQAGSEIQUAAAAMFAAAAC37HAAFQ4GERG7...  5.024586\n",
       "4      0                                site.tycrabtree.com  3.431624"
      ]
     },
     "execution_count": 8,
     "metadata": {},
     "output_type": "execute_result"
    }
   ],
   "source": [
    "test_entropy_vals = []\n",
    "\n",
    "for query in test_data['Query']:\n",
    "    entropy = find_entropy(query)\n",
    "    test_entropy_vals.append(entropy)\n",
    "\n",
    "test_data['Entropy'] = test_entropy_vals\n",
    "test_data.head()"
   ]
  },
  {
   "cell_type": "markdown",
   "metadata": {},
   "source": [
    "# Data Processing"
   ]
  },
  {
   "cell_type": "code",
   "execution_count": 9,
   "metadata": {},
   "outputs": [],
   "source": [
    "def PrintStats(y_pred, test_target):\n",
    "    print(\"Number of mislabeled points out of a total %d points : %d\"\n",
    "      % (test_target.shape[0], (test_target != y_pred).sum()))\n",
    "\n",
    "    test_target = test_target.to_numpy()\n",
    "    tp = 0\n",
    "    tn = 0\n",
    "    fp = 0\n",
    "    fn = 0\n",
    "    for t in range(test_target.shape[0]):\n",
    "        if test_target[t] == 0:\n",
    "            if y_pred[t] == 1:\n",
    "                fp += 1\n",
    "            else:\n",
    "                tn += 1\n",
    "        else:\n",
    "            if y_pred[t] == 1:\n",
    "                tp += 1\n",
    "            else:\n",
    "                fn += 1\n",
    "\n",
    "    print(\"True Positives :\", tp)\n",
    "    print(\"True Negatives :\", tn)\n",
    "    print(\"False Positives :\", fp)\n",
    "    print(\"False Negatives :\", fn)"
   ]
  },
  {
   "cell_type": "code",
   "execution_count": 10,
   "metadata": {},
   "outputs": [],
   "source": [
    "def mode(sample):\n",
    "    c = Counter(sample)\n",
    "    return [k for k, v in c.items() if v == c.most_common(1)[0][1]]"
   ]
  },
  {
   "cell_type": "code",
   "execution_count": 11,
   "metadata": {},
   "outputs": [],
   "source": [
    "X_train = train_data['Entropy']\n",
    "Y_train = train_data['Label']\n",
    "X_test = test_data['Entropy']\n",
    "Y_test = test_data['Label']"
   ]
  },
  {
   "cell_type": "code",
   "execution_count": 12,
   "metadata": {},
   "outputs": [],
   "source": [
    "X_train, Y_train = shuffle(X_train, Y_train)\n",
    "X_test, Y_test = shuffle(X_test, Y_test)"
   ]
  },
  {
   "cell_type": "code",
   "execution_count": 13,
   "metadata": {},
   "outputs": [
    {
     "data": {
      "text/plain": [
       "11097    5.329304\n",
       "9653     5.641680\n",
       "11499    5.587173\n",
       "3450     5.783822\n",
       "6795     3.640224\n",
       "Name: Entropy, dtype: float64"
      ]
     },
     "execution_count": 13,
     "metadata": {},
     "output_type": "execute_result"
    }
   ],
   "source": [
    "X_train.head()"
   ]
  },
  {
   "cell_type": "code",
   "execution_count": 14,
   "metadata": {},
   "outputs": [],
   "source": [
    "X_train = X_train.values.reshape(-1, 1)\n",
    "Y_train = Y_train.values.reshape(-1, 1)\n",
    "X_test  = X_test.values.reshape(-1, 1)"
   ]
  },
  {
   "cell_type": "markdown",
   "metadata": {},
   "source": [
    "# Decision Tree, KNN and Gaussian Naive Bayes"
   ]
  },
  {
   "cell_type": "code",
   "execution_count": 96,
   "metadata": {},
   "outputs": [
    {
     "name": "stdout",
     "output_type": "stream",
     "text": [
      "The time taken is:  1229.9578189849854 millisec\n",
      "Number of mislabeled points out of a total 20000 points : 1722\n",
      "True Positives : 8708\n",
      "True Negatives : 9570\n",
      "False Positives : 1721\n",
      "False Negatives : 1\n"
     ]
    }
   ],
   "source": [
    "start = time.time()\n",
    "\n",
    "model1 = DecisionTreeClassifier()\n",
    "model2 = KNeighborsClassifier(n_neighbors = 2)\n",
    "model3 = GaussianNB()\n",
    "\n",
    "model1.fit(X_train, Y_train.ravel())\n",
    "model2.fit(X_train, Y_train.ravel())\n",
    "model3.fit(X_train, Y_train.ravel())\n",
    "\n",
    "pred1 = model1.predict(X_test)\n",
    "pred2 = model2.predict(X_test)\n",
    "pred3 = model3.predict(X_test)\n",
    "\n",
    "final_pred = np.array([])\n",
    "for i in range(0,len(X_test)):\n",
    "    final_pred = np.append(final_pred, mode([pred1[i], pred2[i], pred3[i]]))\n",
    "\n",
    "end = time.time()\n",
    "print(\"The time taken is: \",(end-start)*1000,\"millisec\")\n",
    "PrintStats(final_pred, Y_test)"
   ]
  },
  {
   "cell_type": "code",
   "execution_count": 97,
   "metadata": {},
   "outputs": [
    {
     "name": "stdout",
     "output_type": "stream",
     "text": [
      "The accuracy is:  91.39 %\n"
     ]
    }
   ],
   "source": [
    "print(\"The accuracy is: \",accuracy_score(Y_test, final_pred)*100,\"%\")"
   ]
  },
  {
   "cell_type": "code",
   "execution_count": 98,
   "metadata": {},
   "outputs": [
    {
     "name": "stdout",
     "output_type": "stream",
     "text": [
      "              precision    recall  f1-score   support\n",
      "\n",
      "           0       1.00      0.85      0.92     11291\n",
      "           1       0.83      1.00      0.91      8709\n",
      "\n",
      "    accuracy                           0.91     20000\n",
      "   macro avg       0.92      0.92      0.91     20000\n",
      "weighted avg       0.93      0.91      0.91     20000\n",
      "\n"
     ]
    }
   ],
   "source": [
    "print(classification_report(Y_test, final_pred))"
   ]
  },
  {
   "cell_type": "markdown",
   "metadata": {},
   "source": [
    "# Random Forest, Decision Tree and Quadratic SVM"
   ]
  },
  {
   "cell_type": "code",
   "execution_count": 99,
   "metadata": {},
   "outputs": [
    {
     "name": "stdout",
     "output_type": "stream",
     "text": [
      "[1. 1. 0. ... 0. 0. 1.]\n",
      "The time taken is:  3283.907890319824 millisec\n",
      "Number of mislabeled points out of a total 20000 points : 1795\n",
      "True Positives : 8708\n",
      "True Negatives : 9497\n",
      "False Positives : 1794\n",
      "False Negatives : 1\n"
     ]
    }
   ],
   "source": [
    "start = time.time()\n",
    "\n",
    "model1 = RandomForestClassifier(n_estimators = 100)\n",
    "model2 = DecisionTreeClassifier() \n",
    "model3 = SVC(kernel='poly', degree=2, gamma='scale')\n",
    "\n",
    "model1.fit(X_train, Y_train.ravel())\n",
    "model2.fit(X_train, Y_train.ravel())\n",
    "model3.fit(X_train, Y_train.ravel())\n",
    "\n",
    "pred1 = model1.predict(X_test)\n",
    "pred2 = model2.predict(X_test)\n",
    "pred3 = model3.predict(X_test)\n",
    "\n",
    "final_pred = np.array([])\n",
    "for i in range(0,len(X_test)):\n",
    "    final_pred = np.append(final_pred, mode([pred1[i], pred2[i], pred3[i]]))\n",
    "\n",
    "print(final_pred)\n",
    "end = time.time()\n",
    "print(\"The time taken is: \",(end-start)*1000,\"millisec\")\n",
    "PrintStats(final_pred, Y_test)"
   ]
  },
  {
   "cell_type": "code",
   "execution_count": 100,
   "metadata": {},
   "outputs": [
    {
     "name": "stdout",
     "output_type": "stream",
     "text": [
      "The accuracy is:  91.025 %\n"
     ]
    }
   ],
   "source": [
    "print(\"The accuracy is: \",accuracy_score(Y_test, final_pred)*100,\"%\")"
   ]
  },
  {
   "cell_type": "code",
   "execution_count": 101,
   "metadata": {},
   "outputs": [
    {
     "name": "stdout",
     "output_type": "stream",
     "text": [
      "              precision    recall  f1-score   support\n",
      "\n",
      "           0       1.00      0.84      0.91     11291\n",
      "           1       0.83      1.00      0.91      8709\n",
      "\n",
      "    accuracy                           0.91     20000\n",
      "   macro avg       0.91      0.92      0.91     20000\n",
      "weighted avg       0.93      0.91      0.91     20000\n",
      "\n"
     ]
    }
   ],
   "source": [
    "print(classification_report(Y_test, final_pred))"
   ]
  },
  {
   "cell_type": "markdown",
   "metadata": {},
   "source": [
    "# Random Forest and Decision Tree"
   ]
  },
  {
   "cell_type": "code",
   "execution_count": 102,
   "metadata": {},
   "outputs": [
    {
     "name": "stdout",
     "output_type": "stream",
     "text": [
      "The time taken is:  1923.2144355773926 millisec\n",
      "Number of mislabeled points out of a total 20000 points : 1795\n",
      "True Positives : 8708\n",
      "True Negatives : 9497\n",
      "False Positives : 1794\n",
      "False Negatives : 1\n"
     ]
    }
   ],
   "source": [
    "start = time.time()\n",
    "\n",
    "model1 = RandomForestClassifier(n_estimators = 100)\n",
    "model2 = DecisionTreeClassifier() \n",
    "\n",
    "model1.fit(X_train, Y_train.ravel())\n",
    "model2.fit(X_train, Y_train.ravel())\n",
    "\n",
    "pred1 = model1.predict(X_test)\n",
    "pred2 = model2.predict(X_test)\n",
    "\n",
    "final_pred = np.array([])\n",
    "for i in range(0,len(X_test)):\n",
    "    final_pred = np.append(final_pred, mode([pred1[i], pred2[i]]))\n",
    "\n",
    "end = time.time()\n",
    "print(\"The time taken is: \",(end-start)*1000,\"millisec\")\n",
    "PrintStats(final_pred, Y_test)"
   ]
  },
  {
   "cell_type": "code",
   "execution_count": 103,
   "metadata": {},
   "outputs": [
    {
     "name": "stdout",
     "output_type": "stream",
     "text": [
      "The accuracy is:  91.025 %\n"
     ]
    }
   ],
   "source": [
    "print(\"The accuracy is: \",accuracy_score(Y_test, final_pred)*100,\"%\")"
   ]
  },
  {
   "cell_type": "code",
   "execution_count": 104,
   "metadata": {},
   "outputs": [
    {
     "name": "stdout",
     "output_type": "stream",
     "text": [
      "              precision    recall  f1-score   support\n",
      "\n",
      "           0       1.00      0.84      0.91     11291\n",
      "           1       0.83      1.00      0.91      8709\n",
      "\n",
      "    accuracy                           0.91     20000\n",
      "   macro avg       0.91      0.92      0.91     20000\n",
      "weighted avg       0.93      0.91      0.91     20000\n",
      "\n"
     ]
    }
   ],
   "source": [
    "print(classification_report(Y_test, final_pred))"
   ]
  },
  {
   "cell_type": "markdown",
   "metadata": {},
   "source": [
    "# Random Forest, Decision Tree and KNN"
   ]
  },
  {
   "cell_type": "code",
   "execution_count": 16,
   "metadata": {},
   "outputs": [
    {
     "name": "stdout",
     "output_type": "stream",
     "text": [
      "The time taken is:  1330.770492553711 millisec\n",
      "Number of mislabeled points out of a total 20000 points : 1795\n",
      "True Positives : 8708\n",
      "True Negatives : 9497\n",
      "False Positives : 1794\n",
      "False Negatives : 1\n"
     ]
    }
   ],
   "source": [
    "start = time.time()\n",
    "\n",
    "model1 = RandomForestClassifier(n_estimators = 100)\n",
    "model2 = DecisionTreeClassifier() \n",
    "model3 = KNeighborsClassifier(n_neighbors = 2)\n",
    "\n",
    "model1.fit(X_train, Y_train.ravel())\n",
    "model2.fit(X_train, Y_train.ravel())\n",
    "model3.fit(X_train, Y_train.ravel())\n",
    "\n",
    "pred1 = model1.predict(X_test)\n",
    "pred2 = model2.predict(X_test)\n",
    "pred3 = model3.predict(X_test)\n",
    "\n",
    "final_pred = np.array([])\n",
    "for i in range(0,len(X_test)):\n",
    "    final_pred = np.append(final_pred, mode([pred1[i], pred2[i], pred3[i]]))\n",
    "\n",
    "end = time.time()\n",
    "print(\"The time taken is: \",(end-start)*1000,\"millisec\")\n",
    "PrintStats(final_pred, Y_test)"
   ]
  },
  {
   "cell_type": "code",
   "execution_count": 17,
   "metadata": {},
   "outputs": [
    {
     "name": "stdout",
     "output_type": "stream",
     "text": [
      "The accuracy is:  91.025 %\n"
     ]
    }
   ],
   "source": [
    "print(\"The accuracy is: \",accuracy_score(Y_test, final_pred)*100,\"%\")"
   ]
  },
  {
   "cell_type": "code",
   "execution_count": 18,
   "metadata": {},
   "outputs": [
    {
     "name": "stdout",
     "output_type": "stream",
     "text": [
      "              precision    recall  f1-score   support\n",
      "\n",
      "           0       1.00      0.84      0.91     11291\n",
      "           1       0.83      1.00      0.91      8709\n",
      "\n",
      "   micro avg       0.91      0.91      0.91     20000\n",
      "   macro avg       0.91      0.92      0.91     20000\n",
      "weighted avg       0.93      0.91      0.91     20000\n",
      "\n"
     ]
    }
   ],
   "source": [
    "print(classification_report(Y_test, final_pred))"
   ]
  }
 ],
 "metadata": {
  "kernelspec": {
   "display_name": "Python 3",
   "language": "python",
   "name": "python3"
  },
  "language_info": {
   "codemirror_mode": {
    "name": "ipython",
    "version": 3
   },
   "file_extension": ".py",
   "mimetype": "text/x-python",
   "name": "python",
   "nbconvert_exporter": "python",
   "pygments_lexer": "ipython3",
   "version": "3.6.9"
  }
 },
 "nbformat": 4,
 "nbformat_minor": 2
}
