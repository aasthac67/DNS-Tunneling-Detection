{
 "cells": [
  {
   "cell_type": "markdown",
   "metadata": {},
   "source": [
    "# DNS Tunneling Detection\n",
    "\n",
    "Dataset Credits : https://github.com/chuayupeng/dns-tunnelling-detection"
   ]
  },
  {
   "cell_type": "code",
   "execution_count": 14,
   "metadata": {},
   "outputs": [],
   "source": [
    "import time\n",
    "import pandas as pd\n",
    "import matplotlib.pyplot as plt\n",
    "from sklearn.model_selection import train_test_split \n",
    "from sklearn.naive_bayes import GaussianNB\n",
    "from sklearn.ensemble import RandomForestClassifier\n",
    "from sklearn.tree import DecisionTreeClassifier\n",
    "from sklearn.neural_network import MLPClassifier\n",
    "from sklearn.naive_bayes import MultinomialNB\n",
    "from sklearn.naive_bayes import BernoulliNB\n",
    "from sklearn.svm import SVC, NuSVC, LinearSVC\n",
    "from sklearn.metrics import accuracy_score, confusion_matrix\n",
    "from sklearn.neighbors import KNeighborsClassifier\n",
    "from sklearn.metrics import classification_report\n",
    "from sklearn.metrics import f1_score\n",
    "import warnings\n",
    "warnings.filterwarnings('ignore')"
   ]
  },
  {
   "cell_type": "markdown",
   "metadata": {},
   "source": [
    "# Data Processing"
   ]
  },
  {
   "cell_type": "code",
   "execution_count": 15,
   "metadata": {},
   "outputs": [],
   "source": [
    "data = pd.read_csv(\"data.csv\")\n",
    "data.sample(frac=1)\n",
    "target=data['attack']\n",
    "data.drop([data.columns[0], 'packet', 'attack', 'subdomainCount', 'queryNameLength'], axis=1, inplace=True)\n",
    "train_data, test_data, train_target, test_target = train_test_split(data, target, test_size=0.2, random_state=50)"
   ]
  },
  {
   "cell_type": "code",
   "execution_count": 16,
   "metadata": {},
   "outputs": [],
   "source": [
    "def PrintStats(y_pred, test_target):\n",
    "    print(\"Number of mislabeled points out of a total %d points : %d\"\n",
    "      % (test_target.shape[0], (test_target != y_pred).sum()))\n",
    "\n",
    "    test_target = test_target.to_numpy()\n",
    "    tp = 0\n",
    "    tn = 0\n",
    "    fp = 0\n",
    "    fn = 0\n",
    "    for t in range(test_target.shape[0]):\n",
    "        if test_target[t] == -1:\n",
    "            if y_pred[t] == 1:\n",
    "                fp += 1\n",
    "            else:\n",
    "                tn += 1\n",
    "        else:\n",
    "            if y_pred[t] == 1:\n",
    "                tp += 1\n",
    "            else:\n",
    "                fn += 1\n",
    "\n",
    "    print(\"True Positives :\", tp)\n",
    "    print(\"True Negatives :\", tn)\n",
    "    print(\"False Positives :\", fp)\n",
    "    print(\"False Negatives :\", fn)"
   ]
  },
  {
   "cell_type": "markdown",
   "metadata": {},
   "source": [
    "# Gaussian Naive Bayes Classifier"
   ]
  },
  {
   "cell_type": "code",
   "execution_count": 4,
   "metadata": {},
   "outputs": [
    {
     "name": "stdout",
     "output_type": "stream",
     "text": [
      "The time taken is:  8.888483047485352 millisec\n",
      "Number of mislabeled points out of a total 3775 points : 88\n",
      "True Positives : 3686\n",
      "True Negatives : 1\n",
      "False Positives : 88\n",
      "False Negatives : 0\n"
     ]
    }
   ],
   "source": [
    "start = time.time()\n",
    "gnb = GaussianNB()\n",
    "y_pred = gnb.fit(train_data, train_target).predict(test_data)\n",
    "end = time.time()\n",
    "print(\"The time taken is: \",(end-start)*1000,\"millisec\")\n",
    "PrintStats(y_pred, test_target)"
   ]
  },
  {
   "cell_type": "code",
   "execution_count": 5,
   "metadata": {},
   "outputs": [
    {
     "name": "stdout",
     "output_type": "stream",
     "text": [
      "The accuracy is:  97.66887417218543 %\n"
     ]
    }
   ],
   "source": [
    "print(\"The accuracy is: \",accuracy_score(test_target, y_pred)*100,\"%\")"
   ]
  },
  {
   "cell_type": "code",
   "execution_count": 6,
   "metadata": {},
   "outputs": [
    {
     "name": "stdout",
     "output_type": "stream",
     "text": [
      "              precision    recall  f1-score   support\n",
      "\n",
      "          -1       1.00      0.01      0.02        89\n",
      "           1       0.98      1.00      0.99      3686\n",
      "\n",
      "    accuracy                           0.98      3775\n",
      "   macro avg       0.99      0.51      0.51      3775\n",
      "weighted avg       0.98      0.98      0.97      3775\n",
      "\n"
     ]
    }
   ],
   "source": [
    "print(classification_report(test_target, y_pred))"
   ]
  },
  {
   "cell_type": "markdown",
   "metadata": {},
   "source": [
    "# Multinomial Naive Bayes Classifier"
   ]
  },
  {
   "cell_type": "code",
   "execution_count": 17,
   "metadata": {},
   "outputs": [
    {
     "name": "stdout",
     "output_type": "stream",
     "text": [
      "The time taken is:  17.17972755432129 millisec\n",
      "Number of mislabeled points out of a total 3775 points : 89\n",
      "True Positives : 3686\n",
      "True Negatives : 0\n",
      "False Positives : 89\n",
      "False Negatives : 0\n"
     ]
    }
   ],
   "source": [
    "start = time.time()\n",
    "MultiNB = MultinomialNB()\n",
    "y_pred = MultiNB.fit(train_data, train_target).predict(test_data)\n",
    "end = time.time()\n",
    "print(\"The time taken is: \",(end-start)*1000,\"millisec\")\n",
    "PrintStats(y_pred, test_target)"
   ]
  },
  {
   "cell_type": "code",
   "execution_count": 18,
   "metadata": {},
   "outputs": [
    {
     "name": "stdout",
     "output_type": "stream",
     "text": [
      "The accuracy is:  97.64238410596026 %\n"
     ]
    }
   ],
   "source": [
    "print(\"The accuracy is: \",accuracy_score(test_target, y_pred)*100,\"%\")"
   ]
  },
  {
   "cell_type": "code",
   "execution_count": 19,
   "metadata": {},
   "outputs": [
    {
     "name": "stdout",
     "output_type": "stream",
     "text": [
      "              precision    recall  f1-score   support\n",
      "\n",
      "          -1       0.00      0.00      0.00        89\n",
      "           1       0.98      1.00      0.99      3686\n",
      "\n",
      "   micro avg       0.98      0.98      0.98      3775\n",
      "   macro avg       0.49      0.50      0.49      3775\n",
      "weighted avg       0.95      0.98      0.96      3775\n",
      "\n"
     ]
    }
   ],
   "source": [
    "print(classification_report(test_target, y_pred))"
   ]
  },
  {
   "cell_type": "markdown",
   "metadata": {},
   "source": [
    "# Bernoulli Naive Bayes Classifier"
   ]
  },
  {
   "cell_type": "code",
   "execution_count": 20,
   "metadata": {},
   "outputs": [
    {
     "name": "stdout",
     "output_type": "stream",
     "text": [
      "The time taken is:  9.321928024291992 millisec\n",
      "Number of mislabeled points out of a total 3775 points : 89\n",
      "True Positives : 3686\n",
      "True Negatives : 0\n",
      "False Positives : 89\n",
      "False Negatives : 0\n"
     ]
    }
   ],
   "source": [
    "start = time.time()\n",
    "BernNB = BernoulliNB(binarize = 0.05)\n",
    "y_pred = BernNB.fit(train_data, train_target).predict(test_data)\n",
    "end = time.time()\n",
    "print(\"The time taken is: \",(end-start)*1000,\"millisec\")\n",
    "PrintStats(y_pred, test_target)"
   ]
  },
  {
   "cell_type": "code",
   "execution_count": 21,
   "metadata": {},
   "outputs": [
    {
     "name": "stdout",
     "output_type": "stream",
     "text": [
      "The accuracy is:  97.64238410596026 %\n"
     ]
    }
   ],
   "source": [
    "print(\"The accuracy is: \",accuracy_score(test_target, y_pred)*100,\"%\")"
   ]
  },
  {
   "cell_type": "code",
   "execution_count": 22,
   "metadata": {},
   "outputs": [
    {
     "name": "stdout",
     "output_type": "stream",
     "text": [
      "              precision    recall  f1-score   support\n",
      "\n",
      "          -1       0.00      0.00      0.00        89\n",
      "           1       0.98      1.00      0.99      3686\n",
      "\n",
      "   micro avg       0.98      0.98      0.98      3775\n",
      "   macro avg       0.49      0.50      0.49      3775\n",
      "weighted avg       0.95      0.98      0.96      3775\n",
      "\n"
     ]
    }
   ],
   "source": [
    "print(classification_report(test_target, y_pred))"
   ]
  },
  {
   "cell_type": "markdown",
   "metadata": {},
   "source": [
    "# Random Forest Classifier"
   ]
  },
  {
   "cell_type": "code",
   "execution_count": 13,
   "metadata": {},
   "outputs": [
    {
     "name": "stdout",
     "output_type": "stream",
     "text": [
      "The time taken is:  841.4759635925293 millisec\n",
      "Number of mislabeled points out of a total 3775 points : 22\n",
      "True Positives : 3683\n",
      "True Negatives : 70\n",
      "False Positives : 19\n",
      "False Negatives : 3\n"
     ]
    }
   ],
   "source": [
    "start = time.time()\n",
    "clf = RandomForestClassifier(n_estimators = 100)  \n",
    "clf.fit(train_data, train_target) \n",
    "y_pred = clf.predict(test_data)\n",
    "end = time.time()\n",
    "print(\"The time taken is: \",(end-start)*1000,\"millisec\")\n",
    "PrintStats(y_pred, test_target)"
   ]
  },
  {
   "cell_type": "code",
   "execution_count": 14,
   "metadata": {},
   "outputs": [
    {
     "name": "stdout",
     "output_type": "stream",
     "text": [
      "The accuracy is:  99.41721854304636 %\n"
     ]
    }
   ],
   "source": [
    "print(\"The accuracy is: \",accuracy_score(test_target, y_pred)*100,\"%\")"
   ]
  },
  {
   "cell_type": "code",
   "execution_count": 15,
   "metadata": {},
   "outputs": [
    {
     "name": "stdout",
     "output_type": "stream",
     "text": [
      "              precision    recall  f1-score   support\n",
      "\n",
      "          -1       0.96      0.79      0.86        89\n",
      "           1       0.99      1.00      1.00      3686\n",
      "\n",
      "    accuracy                           0.99      3775\n",
      "   macro avg       0.98      0.89      0.93      3775\n",
      "weighted avg       0.99      0.99      0.99      3775\n",
      "\n"
     ]
    }
   ],
   "source": [
    "print(classification_report(test_target, y_pred))"
   ]
  },
  {
   "cell_type": "markdown",
   "metadata": {},
   "source": [
    "# Decision Tree Classifier"
   ]
  },
  {
   "cell_type": "code",
   "execution_count": 16,
   "metadata": {},
   "outputs": [
    {
     "name": "stdout",
     "output_type": "stream",
     "text": [
      "The time taken is:  16.695737838745117 millisec\n",
      "Number of mislabeled points out of a total 3775 points : 22\n",
      "True Positives : 3683\n",
      "True Negatives : 70\n",
      "False Positives : 19\n",
      "False Negatives : 3\n"
     ]
    }
   ],
   "source": [
    "start = time.time()\n",
    "clf = DecisionTreeClassifier()   \n",
    "clf.fit(train_data, train_target) \n",
    "y_pred = clf.predict(test_data)\n",
    "end = time.time()\n",
    "print(\"The time taken is: \",(end-start)*1000,\"millisec\")\n",
    "PrintStats(y_pred, test_target)"
   ]
  },
  {
   "cell_type": "code",
   "execution_count": 17,
   "metadata": {},
   "outputs": [
    {
     "name": "stdout",
     "output_type": "stream",
     "text": [
      "The accuracy is:  99.41721854304636 %\n"
     ]
    }
   ],
   "source": [
    "print(\"The accuracy is: \",accuracy_score(test_target, y_pred)*100,\"%\")"
   ]
  },
  {
   "cell_type": "code",
   "execution_count": 18,
   "metadata": {},
   "outputs": [
    {
     "name": "stdout",
     "output_type": "stream",
     "text": [
      "              precision    recall  f1-score   support\n",
      "\n",
      "          -1       0.96      0.79      0.86        89\n",
      "           1       0.99      1.00      1.00      3686\n",
      "\n",
      "    accuracy                           0.99      3775\n",
      "   macro avg       0.98      0.89      0.93      3775\n",
      "weighted avg       0.99      0.99      0.99      3775\n",
      "\n"
     ]
    }
   ],
   "source": [
    "print(classification_report(test_target, y_pred))"
   ]
  },
  {
   "cell_type": "markdown",
   "metadata": {},
   "source": [
    "# Multi Layer Perceptron"
   ]
  },
  {
   "cell_type": "code",
   "execution_count": 19,
   "metadata": {},
   "outputs": [
    {
     "name": "stdout",
     "output_type": "stream",
     "text": [
      "The time taken is:  3608.0780029296875 millisec\n",
      "Number of mislabeled points out of a total 3775 points : 94\n",
      "True Positives : 3679\n",
      "True Negatives : 2\n",
      "False Positives : 87\n",
      "False Negatives : 7\n"
     ]
    }
   ],
   "source": [
    "start = time.time()\n",
    "clf = MLPClassifier(solver='lbfgs', alpha=1e-5, hidden_layer_sizes=(15, 10), random_state=1)\n",
    "clf.fit(train_data, train_target) \n",
    "y_pred = clf.predict(test_data)\n",
    "end = time.time()\n",
    "print(\"The time taken is: \",(end-start)*1000,\"millisec\")\n",
    "PrintStats(y_pred, test_target)"
   ]
  },
  {
   "cell_type": "code",
   "execution_count": 20,
   "metadata": {},
   "outputs": [
    {
     "name": "stdout",
     "output_type": "stream",
     "text": [
      "The accuracy is:  97.50993377483444 %\n"
     ]
    }
   ],
   "source": [
    "print(\"The accuracy is: \",accuracy_score(test_target, y_pred)*100,\"%\")"
   ]
  },
  {
   "cell_type": "code",
   "execution_count": 21,
   "metadata": {
    "scrolled": true
   },
   "outputs": [
    {
     "name": "stdout",
     "output_type": "stream",
     "text": [
      "              precision    recall  f1-score   support\n",
      "\n",
      "          -1       0.22      0.02      0.04        89\n",
      "           1       0.98      1.00      0.99      3686\n",
      "\n",
      "    accuracy                           0.98      3775\n",
      "   macro avg       0.60      0.51      0.51      3775\n",
      "weighted avg       0.96      0.98      0.97      3775\n",
      "\n"
     ]
    }
   ],
   "source": [
    "print(classification_report(test_target, y_pred))"
   ]
  },
  {
   "cell_type": "markdown",
   "metadata": {},
   "source": [
    "# Linear Support Vector Machine "
   ]
  },
  {
   "cell_type": "code",
   "execution_count": 23,
   "metadata": {},
   "outputs": [
    {
     "name": "stdout",
     "output_type": "stream",
     "text": [
      "The time taken is:  355.60011863708496 millisec\n",
      "Number of mislabeled points out of a total 3775 points : 89\n",
      "True Positives : 3686\n",
      "True Negatives : 0\n",
      "False Positives : 89\n",
      "False Negatives : 0\n"
     ]
    }
   ],
   "source": [
    "start = time.time()\n",
    "SVML = LinearSVC()\n",
    "y_pred = SVML.fit(train_data, train_target).predict(test_data)\n",
    "end = time.time()\n",
    "print(\"The time taken is: \",(end-start)*1000,\"millisec\")\n",
    "PrintStats(y_pred, test_target)"
   ]
  },
  {
   "cell_type": "code",
   "execution_count": 24,
   "metadata": {},
   "outputs": [
    {
     "name": "stdout",
     "output_type": "stream",
     "text": [
      "The accuracy is:  97.64238410596026 %\n"
     ]
    }
   ],
   "source": [
    "print(\"The accuracy is: \",accuracy_score(test_target, y_pred)*100,\"%\")"
   ]
  },
  {
   "cell_type": "code",
   "execution_count": 25,
   "metadata": {},
   "outputs": [
    {
     "name": "stdout",
     "output_type": "stream",
     "text": [
      "              precision    recall  f1-score   support\n",
      "\n",
      "          -1       0.00      0.00      0.00        89\n",
      "           1       0.98      1.00      0.99      3686\n",
      "\n",
      "   micro avg       0.98      0.98      0.98      3775\n",
      "   macro avg       0.49      0.50      0.49      3775\n",
      "weighted avg       0.95      0.98      0.96      3775\n",
      "\n"
     ]
    }
   ],
   "source": [
    "print(classification_report(test_target, y_pred))"
   ]
  },
  {
   "cell_type": "markdown",
   "metadata": {},
   "source": [
    "# Quadratic Support Vector Machine"
   ]
  },
  {
   "cell_type": "code",
   "execution_count": 26,
   "metadata": {},
   "outputs": [
    {
     "name": "stdout",
     "output_type": "stream",
     "text": [
      "The time taken is:  9490.642786026001 millisec\n",
      "Number of mislabeled points out of a total 3775 points : 89\n",
      "True Positives : 3686\n",
      "True Negatives : 0\n",
      "False Positives : 89\n",
      "False Negatives : 0\n"
     ]
    }
   ],
   "source": [
    "start = time.time()\n",
    "SVMQ = SVC(kernel='poly', degree=2, gamma='scale')\n",
    "y_pred = SVMQ.fit(train_data, train_target).predict(test_data)\n",
    "end = time.time()\n",
    "print(\"The time taken is: \",(end-start)*1000,\"millisec\")\n",
    "PrintStats(y_pred, test_target)"
   ]
  },
  {
   "cell_type": "code",
   "execution_count": 27,
   "metadata": {},
   "outputs": [
    {
     "name": "stdout",
     "output_type": "stream",
     "text": [
      "The accuracy is:  97.64238410596026 %\n"
     ]
    }
   ],
   "source": [
    "print(\"The accuracy is: \",accuracy_score(test_target, y_pred)*100,\"%\")"
   ]
  },
  {
   "cell_type": "code",
   "execution_count": 28,
   "metadata": {},
   "outputs": [
    {
     "name": "stdout",
     "output_type": "stream",
     "text": [
      "              precision    recall  f1-score   support\n",
      "\n",
      "          -1       0.00      0.00      0.00        89\n",
      "           1       0.98      1.00      0.99      3686\n",
      "\n",
      "   micro avg       0.98      0.98      0.98      3775\n",
      "   macro avg       0.49      0.50      0.49      3775\n",
      "weighted avg       0.95      0.98      0.96      3775\n",
      "\n"
     ]
    }
   ],
   "source": [
    "print(classification_report(test_target, y_pred))"
   ]
  },
  {
   "cell_type": "markdown",
   "metadata": {},
   "source": [
    "# K Nearest Neighbours"
   ]
  },
  {
   "cell_type": "code",
   "execution_count": 28,
   "metadata": {},
   "outputs": [
    {
     "name": "stdout",
     "output_type": "stream",
     "text": [
      "The time taken is:  234.28940773010254 millisec\n",
      "Number of mislabeled points out of a total 3775 points : 47\n",
      "True Positives : 3646\n",
      "True Negatives : 82\n",
      "False Positives : 7\n",
      "False Negatives : 40\n"
     ]
    }
   ],
   "source": [
    "start = time.time()\n",
    "KNN = KNeighborsClassifier(n_neighbors = 2)\n",
    "y_pred = KNN.fit(train_data, train_target).predict(test_data)\n",
    "end = time.time()\n",
    "print(\"The time taken is: \",(end-start)*1000,\"millisec\")\n",
    "PrintStats(y_pred, test_target)"
   ]
  },
  {
   "cell_type": "code",
   "execution_count": 29,
   "metadata": {},
   "outputs": [
    {
     "name": "stdout",
     "output_type": "stream",
     "text": [
      "The accuracy is:  98.75496688741721 %\n"
     ]
    }
   ],
   "source": [
    "print(\"The accuracy is: \",accuracy_score(test_target, y_pred)*100,\"%\")"
   ]
  },
  {
   "cell_type": "code",
   "execution_count": 30,
   "metadata": {},
   "outputs": [
    {
     "name": "stdout",
     "output_type": "stream",
     "text": [
      "              precision    recall  f1-score   support\n",
      "\n",
      "          -1       0.67      0.92      0.78        89\n",
      "           1       1.00      0.99      0.99      3686\n",
      "\n",
      "    accuracy                           0.99      3775\n",
      "   macro avg       0.84      0.96      0.89      3775\n",
      "weighted avg       0.99      0.99      0.99      3775\n",
      "\n"
     ]
    }
   ],
   "source": [
    "print(classification_report(test_target, y_pred))"
   ]
  }
 ],
 "metadata": {
  "kernelspec": {
   "display_name": "Python 3",
   "language": "python",
   "name": "python3"
  },
  "language_info": {
   "codemirror_mode": {
    "name": "ipython",
    "version": 3
   },
   "file_extension": ".py",
   "mimetype": "text/x-python",
   "name": "python",
   "nbconvert_exporter": "python",
   "pygments_lexer": "ipython3",
   "version": "3.6.9"
  }
 },
 "nbformat": 4,
 "nbformat_minor": 4
}
